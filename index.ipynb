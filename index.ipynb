{
 "cells": [
  {
   "cell_type": "markdown",
   "id": "4efa3067-8eee-441a-b9b8-2760786b26df",
   "metadata": {},
   "source": [
    "# Index of pyLabFEA notebooks\n",
    "\n",
    "Finite Element Analysis (FEA) is a numerical method for studying mechanical behavior of fluids and solids. The pyLabFEA package\n",
    "introduces a simple version of FEA for solid mechanics and elastic-plastic materials, which is fully written in Python. Due to\n",
    "its simplicity, it is well-suited for teaching, and its flexibility in constitutive modeling of materials makes it a useful research tool. See the [online documentation](https://ahartmaier.github.io/pyLabFEA) of the pyLabFEA package for detailed information.\n",
    "\n",
    "The following tutorials and research applications refer to Jupyter notebooks provided in the [GitHub repository](https://github.com/AHartmaier/pyLabFEA.git) of pyLabFEA.\n",
    "\n",
    "  - Author: Alexander Hartmaier\n",
    "  - Organization: ICAMS, Ruhr University Bochum, Germany\n",
    "  - Contact: <alexander.hartmaier@rub.de>\n",
    "\n",
    "This work is licensed under a Creative Commons Attribution-NonCommercial-ShareAlike 4.0 International License [(CC-BY-NC-SA)](http://creativecommons.org/licenses/by-nc-sa/4.0/)\n",
    "<a rel=\"license\" href=\"http://creativecommons.org/licenses/by-nc-sa/4.0/\">\n",
    "   <img alt=\"Creative Commons License\" style=\"border-width:0;max-heigt:9px;height:100%;\" src=\"https://i.creativecommons.org/l/by-nc-sa/4.0/88x31.png\" /></a>\n",
    "\n",
    "The pyLabFEA package comes with ABSOLUTELY NO WARRANTY. This is free software, and you are welcome to redistribute it under the conditions of the GNU General Public License [(GPLv3)](http://www.fsf.org/licensing/licenses/gpl.html)\n",
    "\n",
    "## 1. Tutorials\n",
    "\n",
    "  - [pyLabFEA_Introduction.ipynb](notebooks/pyLabFEA_Introduction.ipynb)  \n",
    "    The basic steps of using pyLabFEA for elastic materials are demonstrated.\n",
    "\n",
    "  - [pyLabFEA_Composites.ipynb](notebooks/pyLabFEA_Composites.ipynb)  \n",
    "    The properties of composites made from different elastic materials are analyzed, and the numerical solution is compared with the expected values from mechanical models.\n",
    "\n",
    "  - [pyLabFEA_Equiv-Stress.ipynb](notebooks/pyLabFEA_Equiv-Stress.ipynb)  \n",
    "    Introduction to equivalent stresses as basis for plastic flow rules.\n",
    "    \n",
    "  - [pyLabFEA_Plasticity.ipynb](notebooks/pyLabFEA_Plasticity.ipynb)  \n",
    "    Non-linear material behavior in form of plasticity is introduced.\n",
    "\n",
    "  - [pyLabFEA_Homogenization.ipynb](notebooks/pyLabFEA_Homogenization.ipynb)  \n",
    "    Laminate structures with different elastic-plastic materials are analyzed with respect to the mechanical behavior.\n",
    "\n",
    "   \n",
    "## 2. Applications\n",
    "\n",
    "  - [pyLabFEA_ML-FlowRule-Hill.ipynb](notebooks/pyLabFEA_ML-FlowRule-Hill.ipynb)  \n",
    "    A machine learning algorithm is trained with data from an anisotropic Hill-like yield criterion for pure normal stresses to be used as constitutive model for anisotropic plasticity of metals.\n",
    "\n",
    "  - [pyLabFEA_ML-FlowRule-Tresca.ipynb](notebooks/pyLabFEA_ML-FlowRule-Tresca.ipynb)  \n",
    "    A machine learning algorithm is trained with data from a Tresca yield criterion for pure normal stresses to be used as constitutive model for anisotropic plasticity of metals.\n",
    "    \n",
    "  - [pyLabFEA_ML-FlowRule-Training.ipynb](notebooks/pyLabFEA_ML-FlowRule-Training.ipynb)  \n",
    "    A machine learning algorithm is trained with full tensorial stress data, including normal and shear stresses, from anisotropic Hill and Barlat-type yield criteria to be used as constitutive model for isotropic plasticity of metals.\n",
    "\n",
    "   "
   ]
  }
 ],
 "metadata": {
  "kernelspec": {
   "display_name": "Python 3 (ipykernel)",
   "language": "python",
   "name": "python3"
  },
  "language_info": {
   "codemirror_mode": {
    "name": "ipython",
    "version": 3
   },
   "file_extension": ".py",
   "mimetype": "text/x-python",
   "name": "python",
   "nbconvert_exporter": "python",
   "pygments_lexer": "ipython3",
   "version": "3.10.6"
  }
 },
 "nbformat": 4,
 "nbformat_minor": 5
}

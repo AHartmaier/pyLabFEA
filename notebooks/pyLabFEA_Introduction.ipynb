{
 "cells": [
  {
   "cell_type": "markdown",
   "metadata": {},
   "source": [
    "# Finite Element Tutorial in Python\n",
    "Introduction to the Python Laboratory for Finite Element Analysis (pyLabFEA). This tutorial covers FEA with elements in one or two dimensions to evaluate the mechanical behavior of laminate geometries with linear elastic materials. See the <a rel=\"docs\" href=\"https://ahartmaier.github.io/pyLabFEA/\">online documentation</a> of the pyLabFEA package for detailed information. NumPy (http://www.numpy.org) is used for mathematical operations on arrays and matplotlib (https://matplotlib.org/) for the visualization of numerical results.\n",
    "\n",
    "Author: Alexander Hartmaier, ICAMS / Ruhr-Universität Bochum\n",
    "\n",
    "March 2020\n",
    "\n",
    "This work is licensed under a Creative \n",
    "Commons Attribution-NonCommercial-ShareAlike 4.0 International License\n",
    "<a rel=\"license\" href=\"http://creativecommons.org/licenses/by-nc-sa/4.0/\">(CC-BY-NC-SA)</a>\n",
    " <a rel=\"license\" href=\"http://creativecommons.org/licenses/by-nc-sa/4.0/\">\n",
    "<img alt=\"Creative Commons License\" style=\"border-width:0;max-heigt:9px;height:100%;\" src=\"https://i.creativecommons.org/l/by-nc-sa/4.0/88x31.png\" /></a>\n",
    "\n",
    "The pyLabFEA package comes with ABSOLUTELY NO WARRANTY. This is free\n",
    "software, and you are welcome to redistribute it under the conditions of\n",
    "the GNU General Public License <a href=\"http://www.fsf.org/licensing/licenses/gpl.html\">(GPLv3)</a> \n",
    "\n",
    "## Python Laboratory for Finite Element Analysis (pyLabFEA)\n",
    "In the first step, the pyLabFEA package, containing the modules ``Model`` and ``Material``, is imported.\n"
   ]
  },
  {
   "cell_type": "code",
   "execution_count": 1,
   "metadata": {},
   "outputs": [
    {
     "name": "stdout",
     "output_type": "stream",
     "text": [
      "pyLabeFEA version 4.2\n"
     ]
    }
   ],
   "source": [
    "import pylabfea as fea\n",
    "print('pyLabeFEA version', fea.__version__)"
   ]
  },
  {
   "cell_type": "markdown",
   "metadata": {},
   "source": [
    "## Model\n",
    "\n",
    "The class `Model` is invoked to create an objecte for the finite element model to be used. This object contains all attributes of the model and defines the methods. To use the model for FEA, the following steps are performed: (i) geometry definition, (ii) material definition, (iii) applying boundary conditions, (iv) meshing, (v) solving of linear equations, and (vi) calculation of element stresses and strains by calling the corresponding methods of the class `Model`. \n",
    "\n",
    "<b>Parameters:</b> <br/>\n",
    "dim (optional): dim=1 for 1-d model, dim=2 for 2-d model (default: dim=1)<br/>\n",
    "planestress (optional, used only in 2-d models): True if plane stress conditions shall be considered (default: planestress=False)<br/>\n",
    "\n",
    "<b> Methods: </b><br/>\n",
    "`geom`: define (laminate) geometry with sections<br/>\n",
    "`assign`: assign material properties to sections<br/>\n",
    "`bcleft`, `bcright`, `bctop`, `bcbot`: define boundary conditions<br/>\n",
    "`mesh`: generate mesh (1-d elements with linear or quadratic shape functions or 2-d mesh with linear quadriliteratl elements)<br/>\n",
    "`solve`: setup stiffness matrix and calculate displacements satisfying mechanical equilibrium, i.e. $f=0$ for internal nodes, for given boundary conditions <br/>\n",
    "`calc_global`: calculate global stress and strain based on displacements and residual forces of boundary nodes <br/>\n",
    "`plot`: show graphical representation of mechanical quantities mapped into deformed shape\n"
   ]
  },
  {
   "cell_type": "code",
   "execution_count": 2,
   "metadata": {},
   "outputs": [],
   "source": [
    "fem = fea.Model()  # create element of class Model"
   ]
  },
  {
   "cell_type": "markdown",
   "metadata": {},
   "source": [
    "## Geometry\n",
    "\n",
    "Define the geometry of the model with method `geom`. The geometry is subdivided into sections, representing a 1-d or 2-d laminate structure normal to the $x$-direction. The sections are given as a list with the absolute length of each section. The total length of the model is the sum of all section lengths. All lengths are given in units of 1 mm.\n",
    "\n",
    "<b>Parameters:</b><br/>\n",
    "sect: list with absolute length of each section in x-direction<br/>\n",
    "LY (optional): height of model in y-direction (default: LY=1)<br/>\n",
    "LZ (optional): thickness of model in z-direction (default: LZ=1)<br/>"
   ]
  },
  {
   "cell_type": "code",
   "execution_count": 3,
   "metadata": {},
   "outputs": [],
   "source": [
    "fem.geom([3, 2, 4])  # define sections in absolute lengths"
   ]
  },
  {
   "cell_type": "markdown",
   "metadata": {},
   "source": [
    "## Materials\n",
    "\n",
    "Material properties are given either in terms of anisotropic elastic constants $C_{11}$, $C_{12}$, $C_{44}$, or – in case of an elastically isotropic material – as Young's modulus $E$ and Poisson's ratio $\\nu$. The parameters must be given with their name. The material is created by applying the class `Material`, which defines a container for the attributes and methods describing material properties and behavior. Elastic properties are defined by calling the method `elasticity` with the appropriate set of parameters.  \n",
    "\n",
    "<b>Class:</b><br/>\n",
    "`Material`\n",
    "\n",
    "<b>Methods:</b><br/>\n",
    "`elasticity:` define linear elastic material either by anisoptropic or by isotropic constants. Note: One complete set of elastic parameters must be provided.<br/>\n",
    "<b>Paramaters:</b><br/>\n",
    "C11, C12, C44 (optional): anisotropic elastic constants<br/>\n",
    "E, nu (optional): Young's modulus and Poisson's ratio (isotropic elasticity)<br/>\n",
    "one of both parameter sets must be provided<br/>\n",
    "\n",
    "<b>Attributes:</b><br/>\n",
    "sets internal variables for $C_{11}$, $C_{12}$, $C_{44}$, $E$ and $\\nu$ <br/>\n",
    "\n"
   ]
  },
  {
   "cell_type": "code",
   "execution_count": 4,
   "metadata": {},
   "outputs": [
    {
     "name": "stdout",
     "output_type": "stream",
     "text": [
      "MAT1: C11=2.692e+05, C12=1.154e+05, C44=7.692e+04, E=2.000e+05, nu=0.30\n",
      "MAT2: C11=1.346e+05, C12=5.769e+04, C44=3.846e+04, E=1.000e+05, nu=0.30\n",
      "MAT3: C11=6.731e+05, C12=2.885e+05, C44=1.923e+05, E=5.000e+05, nu=0.30\n"
     ]
    }
   ],
   "source": [
    "mat1 = fea.Material()              # create element of class Material\n",
    "mat1.elasticity(E=200.e3, nu=0.3)  # assign isotropic elastic properties\n",
    "mat2 = fea.Material()\n",
    "mat2.elasticity(E=100.e3, nu=0.3)\n",
    "mat3 = fea.Material()\n",
    "mat3.elasticity(E=500.e3, nu=0.3)\n",
    "print(f'MAT1: C11={mat1.C11:9.3e}, C12={mat1.C12:9.3e}, C44={mat1.C44:9.3e}, E={mat1.E:9.3e}, nu={mat1.nu:4.2f}')\n",
    "print(f'MAT2: C11={mat2.C11:9.3e}, C12={mat2.C12:9.3e}, C44={mat2.C44:9.3e}, E={mat2.E:9.3e}, nu={mat2.nu:4.2f}')\n",
    "print(f'MAT3: C11={mat3.C11:9.3e}, C12={mat3.C12:9.3e}, C44={mat3.C44:9.3e}, E={mat3.E:9.3e}, nu={mat3.nu:4.2f}')\n"
   ]
  },
  {
   "cell_type": "markdown",
   "metadata": {},
   "source": [
    "## Assigning materials to model sections\n",
    "\n",
    "Each section has to be assigned a material, which is accomplished by calling the according method of the class `Model` with the list of materials, which must have the same shape as the list of sections in the geometry definition.\n",
    "\n",
    "<b>Class: </b>`Model`<br/>\n",
    "<b>Method:</b><br/>\n",
    "`assign`: assign a material to each section<br/assign: assign a material to each section<br/>\n",
    "<b>Paramaters:</b><br/>\n",
    "mats: list of materials, each defined by class `Material`, with same shape as in method `geom`. Each section is assigned to the according material.<br/>\n",
    "<b>Attributes</b><br/>\n",
    "fem.mat: list with pointer to material for each section<br/>"
   ]
  },
  {
   "cell_type": "code",
   "execution_count": 5,
   "metadata": {},
   "outputs": [
    {
     "name": "stdout",
     "output_type": "stream",
     "text": [
      "[<pylabfea.material.Material object at 0x15b92a8e0>, <pylabfea.material.Material object at 0x15b92aca0>, <pylabfea.material.Material object at 0x15b92acd0>]\n"
     ]
    }
   ],
   "source": [
    "fem.assign([mat1, mat2, mat3])  # assign materials to sections of model\n",
    "print(fem.mat)\n"
   ]
  },
  {
   "cell_type": "markdown",
   "metadata": {},
   "source": [
    "## Boundary Conditions\n",
    "\n",
    "For left-hand-side and bottom nodes a displacement is given, typically $u_{\\rm left}=u_{\\rm bot}=0$.\n",
    "\n",
    "The type of boundary conditions for right-hand-side and top nodes is specified as either displacement (type='disp') or force (type='force'). Value and type must be specified as parameters in this sequence.\n",
    "\n",
    "For 1-d models only `bcleft` and `bcright` can be called.\n",
    "\n",
    "<b>Method:</b><br/>\n",
    "`bcleft`: set displacement for lhs node(s)<br/>\n",
    "`bcbot`: set displacement for bottom node(s), has no function for 1-d models<br/>\n",
    "<b>Paramaters:</b><br/>\n",
    "scalar value: Displacement for boundary node(s)\n",
    "\n",
    "<b>Method:</b><br/>\n",
    "`bcright`: set displacement or force for rhs node(s)<br/>\n",
    "`bctop`: set displaement or force for top node(s), has no function for 1-d models<br/>\n",
    "<b>Paramaters:</b><br/>\n",
    "scalar value: Displacement of force for boundary nodes<br/>\n",
    "bctype: string indicating type of boundary conditions: 'disp' for displacements, 'force' for forces"
   ]
  },
  {
   "cell_type": "code",
   "execution_count": 6,
   "metadata": {},
   "outputs": [],
   "source": [
    "fem.bcleft(0.)  # define displacement boundary condition on lhs node (u_x given as parameter)\n",
    "fem.bcright(0.1*fem.lenx, 'disp')  # rhs node is subject to 10% strain (disp = 0.1 * length of model)\n"
   ]
  },
  {
   "cell_type": "markdown",
   "metadata": {},
   "source": [
    "## Meshing\n",
    "\n",
    "Create a structured mesh with 1-d elements or 2-d quadrilateral elements. Nodes are situated at the corners of the elements and in the middle of the edges for quadratic shape functions. The finite elements of the model are stored in a list with elements of the subclass `element` with its own attributes and methods, which are used to setup the element shape function.\n",
    "\n",
    "<b>Method (class Model):</b><br/>\n",
    "mesh<br/>\n",
    "<b>Parameters:</b> <br/>\n",
    "NX (optional): number of elements in x-direction (default: NX=10)<br/>\n",
    "NY (optional): number of elements in y-direction (default: NY=1), only effective for 2-d models<br/>\n",
    "SF (optional): degree of shape functions: 1=linear (default), 2=quadratic\n",
    "\n",
    "<b>Subclass: `Element` (parent class: `Model`)</b><br/>\n",
    "<b>Methods:</b><br/>\n",
    "calc_Bmat: Calculate B matrix at Gauss point<br/>\n",
    "calc_Kel: calculate element stiffness matrix<br/>\n",
    "<b>Attributes:</b><br/>\n",
    "nodes: list of nodes of this element<br/>\n",
    "Lelx, Lely: x- and y-dimensions of element<br/>\n",
    "ngp: number of Gauss points<br/>\n",
    "gpx, gpy: np.arrays of x- and y-locations of Gauss points in element<br/>\n",
    "Bmat: list of B-matrices at Gauss points<br/>\n",
    "Vel: volume of element<br/>\n",
    "Kel: element stiffness matrix<br/>\n",
    "Jac: determinant of Jacobian<br/>\n",
    "wght: weight factor for each Gauss point in integration<br/>\n",
    "Sect: Section of model in which element is located<br/>\n",
    "Mat: Pointer to class ``Material`` to be applied to this element<br/>\n",
    "CV: Voigt stiffness matrix of element material<br/>\n",
    "eps: average element (total) strain in Voigt notation<br/>\n",
    "sig: average element stress in Voigt notation<br/>\n"
   ]
  },
  {
   "cell_type": "code",
   "execution_count": 7,
   "metadata": {},
   "outputs": [
    {
     "name": "stdout",
     "output_type": "stream",
     "text": [
      "nodal positions: [0. 1. 2. 3. 4. 5. 6. 7. 8. 9.]\n",
      "nodes belonging to element #0: [0, 1]\n",
      "stiffness matrix of element #0:\n",
      "[[ 269230.77 -269230.77]\n",
      " [-269230.77  269230.77]]\n"
     ]
    }
   ],
   "source": [
    "fem.mesh(NX=9)  # create mesh\n",
    "print(f'nodal positions: {fem.npos.round(decimals=2)}')\n",
    "print(f'nodes belonging to element #0: {fem.element[0].nodes}')\n",
    "print('stiffness matrix of element #0:')\n",
    "print(fem.element[0].Kel.round(decimals=2))\n"
   ]
  },
  {
   "cell_type": "markdown",
   "metadata": {},
   "source": [
    "## Solver\n",
    "\n",
    "The system of linear equation defined by the stiffness matrix is solved by invoking the Linear Algebra (linalg) subroutine ``solve`` of NumPy. The solution yields the nodal displacements fulfilling mechanical equilibrium for the given boundary conditions. The nodal forces of internal nodes are zero, forces on boundary nodes are either given as boundary conditions or are residual forces on fixed boundary nodes. If no boundary conditions are specified, the force on such boundary nodes will be zero.\n",
    "\n",
    "After solution is completed, the following attributes of the <b>class `Model`</b> are defined.<br/>\n",
    "<b>Attributes:</b><br/>\n",
    "u: list of nodal displacements<br/>\n",
    "f: list of nodal forces<br/>\n",
    "element[i].eps, element[i].sig: Voigt strain and stress tensor of element #i<br/>"
   ]
  },
  {
   "cell_type": "code",
   "execution_count": 8,
   "metadata": {},
   "outputs": [
    {
     "name": "stdout",
     "output_type": "stream",
     "text": [
      "nodal displacements u =  [0.   0.1  0.21 0.31 0.52 0.73 0.77 0.82 0.86 0.9 ]\n",
      "nodal forces f =  [-28175.31      0.        0.        0.        0.        0.        0.\n",
      "      0.       -0.    28175.31]\n",
      "element strain eps =  [0.1, 0.1, 0.1, 0.21, 0.21, 0.04, 0.04, 0.04, 0.04]\n",
      "Voigt strain tensor for element #0 =  [0.1 0.  0.  0.  0.  0. ]\n"
     ]
    }
   ],
   "source": [
    "fem.solve()  # solve linear system of equations\n",
    "print('nodal displacements u = ', fem.u.round(decimals=2))\n",
    "print('nodal forces f = ', fem.f.round(decimals=2))\n",
    "print('element strain eps = ', [element.eps[0].round(decimals=2) for element in fem.element])\n",
    "print('Voigt strain tensor for element #0 = ', fem.element[0].eps.round(decimals=2))\n"
   ]
  },
  {
   "cell_type": "markdown",
   "metadata": {},
   "source": [
    "## Post-processing\n",
    "\n",
    "Calculate global stresses and strains based on displacements and residual forces on boundary nodes. Provide a graphical output of the specified field, the parameter can be either 'strain' or 'stress'. A rectangle is plotted for each element, with the color given by the specified field and a color map.\n",
    "\n",
    "<b>Class `Model`</b><br/>\n",
    "<b>Method:</b><br/>\n",
    "`calc_global`: Calculate global stresses and strains based on displacements and residual forces of boundary nodes.<br/>\n",
    "<b>Attributes:</b><br/>\n",
    "glob: Python dictionary with global strains and stresses, contains the elements: <br/>\n",
    "        'ebc1', 'ebc2', 'sbc1', 'sbc2' : global strain and stress calculated from reaction forces and displacements \n",
    "        of boundary nodes (type: float) <br/>\n",
    "        'eps', 'epl', 'sig',  : global strain, plastic strain, and stress tensors homogenized \n",
    "        from element solutions (type: Voigt tensor) \n",
    "\n",
    "<b>Method:</b><br/>\n",
    "`plot`: Calculate stresses and strains for each element and stores them in lists assigned to model.<br/>\n",
    "<b>Parameters:</b><br/>\n",
    "fsel: field selector, string with value 'strain1' for $\\epsilon_{11}$, 'strain2' for $\\epsilon_{22}$, 'stress1' for $\\sigma_{11}$, 'stress2' for $\\sigma_{22}$.<br/>\n",
    "mag (optional): scaling factor (magnification) for displacements (default: mag=10)<br/>\n",
    "cdepth (optional): depth of colormap (default: cdepth=20)<br/>\n",
    "showmesh (optional): Boolean variable to set/unset plotting of lines for element edges (default: showmesh=True)<br/>\n",
    "shownodes (optional): Boolean variable to set/unset plotting of nodes (default: shownodes=True)<b/> \n",
    "\n",
    "See the <a rel=\"docs\" href=\"https://ahartmaier.github.io/pyLabFEA/\">online documentation</a> of the pyLabFEA package for a full description of the attributes and methods of the class ``Model``."
   ]
  },
  {
   "cell_type": "code",
   "execution_count": 9,
   "metadata": {},
   "outputs": [
    {
     "name": "stdout",
     "output_type": "stream",
     "text": [
      "global stress: sig_11 = 28175.313 MPa\n",
      "global strain: eps_11 = 10.0 %\n",
      "\n",
      "Graphical output of model with magnification factor 10\n"
     ]
    },
    {
     "data": {
      "image/png": "[encoded data removed]",
      "text/plain": [
       "<Figure size 432x288 with 2 Axes>"
      ]
     },
     "metadata": {
      "needs_background": "light"
     },
     "output_type": "display_data"
    }
   ],
   "source": [
    "fem.calc_global()  # calculate global stress and strain\n",
    "print(f'global stress: sig_11 = {fem.glob[\"sig\"][0].round(decimals=3)} MPa')\n",
    "print(f'global strain: eps_11 = {(fem.glob[\"eps\"][0]*100).round(decimals=2)} %')\n",
    "print('\\nGraphical output of model with magnification factor 10')\n",
    "fem.plot('strain1')  # create plot\n"
   ]
  },
  {
   "cell_type": "markdown",
   "metadata": {},
   "source": [
    "## 2-dimensional model 1: iso-strain\n",
    "\n",
    "A 2-d model with three different sections is created and subjected to a uniaxial stress parallel to the sections (y-direction), resulting in an iso-strain condition, because all sections are subject to the same total strain as the entire model. The effective eleastic properties are calculated numerically and compared to the results of the Voigt homogenization rule (iso-strain assumption)."
   ]
  },
  {
   "cell_type": "code",
   "execution_count": null,
   "metadata": {},
   "outputs": [
    {
     "name": "stdout",
     "output_type": "stream",
     "text": [
      "2-d Model 1: iso-strain, plane stress, eps_22=10%\n",
      "Global strain:  -0.03 0.1\n",
      "Element strain Section 1:  [-0.03  0.1  -0.03  0.    0.    0.  ]\n",
      "Element strain Section 2:  [-0.03  0.1  -0.03  0.    0.   -0.  ]\n",
      "Element strain Section 3:  [-0.03  0.1  -0.03  0.    0.    0.  ]\n",
      "Global stress (MPa):  0.0 31111.111\n",
      "Element stress (MPa) Section 1:  [    0. 20000.     0.     0.     0.     0.]\n",
      "Element stress (MPa) Section 2:  [    0. 10000.     0.     0.     0.    -0.]\n",
      "Element stress (MPa) Section 3:  [    0. 50000.     0.     0.     0.     0.]\n",
      "Stiffness (MPa):  311111.1111111126\n",
      "Target (MPa):  311111.1111111111\n",
      "Error:  -4.6629367034256575e-15\n",
      "----------------------------------------\n"
     ]
    },
    {
     "data": {
      "image/png": "[encoded data removed]",
      "text/plain": [
       "<Figure size 432x288 with 2 Axes>"
      ]
     },
     "metadata": {
      "needs_background": "light"
     },
     "output_type": "display_data"
    },
    {
     "data": {
      "image/png": "[encoded data removed]",
      "text/plain": [
       "<Figure size 432x288 with 2 Axes>"
      ]
     },
     "metadata": {
      "needs_background": "light"
     },
     "output_type": "display_data"
    }
   ],
   "source": [
    "# 2-d model, iso-strain\n",
    "comp=fea.Model(dim=2, planestress=True)\n",
    "comp.geom([3,2,4], LY=9)        # define sections in absolute lengths\n",
    "comp.assign([mat1, mat2, mat3]) # assign a material to each section\n",
    "comp.bcleft(0.)                 # define boundary conditions\n",
    "comp.bcright(0., 'force') \n",
    "comp.bcbot(0.)\n",
    "comp.bctop(0.1*comp.leny, 'disp') # apply eps_22 strain at top boundary\n",
    "comp.mesh(NX=18, NY=18)         # create structured mesh with 18x18 elements\n",
    "comp.solve()                    # solve system of equations for mechanical equilibrium\n",
    "comp.calc_global()              # evaluate global properties\n",
    "mod_stiff = comp.glob['sig'][1]/comp.glob['eps'][1]\n",
    "voigt_stiff = 3.*mat1.E/9 + 2*mat2.E/9 + 4*mat3.E/9 # weighted average of Young's moduli wrt volume fractions\n",
    "print('2-d Model 1: iso-strain, plane stress, eps_22=10%')\n",
    "print('Global strain: ',comp.glob['eps'][0].round(decimals=3), comp.glob['eps'][1].round(decimals=3))\n",
    "print('Element strain Section 1: ', comp.element[0].eps.round(decimals=3))\n",
    "print('Element strain Section 2: ', comp.element[6*18].eps.round(decimals=3))\n",
    "print('Element strain Section 3: ', comp.element[10*18].eps.round(decimals=3))\n",
    "print('Global stress (MPa): ',comp.glob['sig'][0].round(decimals=3), comp.glob['sig'][1].round(decimals=3))\n",
    "print('Element stress (MPa) Section 1: ', comp.element[0].sig.round(decimals=3))\n",
    "print('Element stress (MPa) Section 2: ', comp.element[6*18].sig.round(decimals=3))\n",
    "print('Element stress (MPa) Section 3: ', comp.element[10*18].sig.round(decimals=3))\n",
    "print('Stiffness (MPa): ',mod_stiff)\n",
    "print('Target (MPa): ', voigt_stiff)\n",
    "print('Error: ', 1.-mod_stiff/voigt_stiff)\n",
    "print('----------------------------------------')\n",
    "\n",
    "comp.plot('strain1', mag=1, shownodes=False)\n",
    "comp.plot('strain2', mag=1, shownodes=False)\n",
    "comp.plot('stress1', mag=1, shownodes=False)\n",
    "comp.plot('stress2', mag=1, shownodes=False)\n"
   ]
  },
  {
   "cell_type": "markdown",
   "metadata": {},
   "source": [
    "## 2-dimensional model 2: iso-stress\n",
    "\n",
    "A 2-d model with three different sections is created and subjected to a uniaxial strain perpendicular to the sections (x-direction) resulting in an iso-stress condition, because all section are subject to the same stress in loading direction as the entire model. The effective eleastic properties are calculated numerically and compared to the results of the Reuss homogenization rule (iso-stress assumption)."
   ]
  },
  {
   "cell_type": "code",
   "execution_count": 11,
   "metadata": {},
   "outputs": [
    {
     "name": "stdout",
     "output_type": "stream",
     "text": [
      "2-d Model 2: isostress, eps_11=10%\n",
      "Global strain:  0.1 0.0\n",
      "Element strain Section 1:  [ 0.105 -0.     0.     0.     0.     0.   ]\n",
      "Element strain Section 2:  [ 0.209 -0.     0.     0.     0.     0.   ]\n",
      "Element strain Section 3:  [ 0.042  0.     0.     0.     0.    -0.   ]\n",
      "Global stress:  28175.313 12075.134\n",
      "Element stress (MPa) Section 1:  [28175.313 12075.134 12075.134     0.        0.        0.   ]\n",
      "Element stress (MPa) Section 2:  [28175.313 12075.134 12075.134     0.        0.        0.   ]\n",
      "Element stress (MPa) Section 3:  [28175.313 12075.134 12075.134     0.        0.       -0.   ]\n",
      "Stiffness (MPa):  281753.13059033663\n",
      "Target (MPa):  281753.1305903399\n",
      "Error:  1.1546319456101628e-14\n",
      "----------------------------------------\n"
     ]
    },
    {
     "data": {
      "image/png": "[encoded data removed]",
      "text/plain": [
       "<Figure size 432x288 with 2 Axes>"
      ]
     },
     "metadata": {
      "needs_background": "light"
     },
     "output_type": "display_data"
    },
    {
     "data": {
      "image/png": "[encoded data removed]",
      "text/plain": [
       "<Figure size 432x288 with 2 Axes>"
      ]
     },
     "metadata": {
      "needs_background": "light"
     },
     "output_type": "display_data"
    },
    {
     "data": {
      "image/png": "[encoded data removed]",
      "text/plain": [
       "<Figure size 432x288 with 2 Axes>"
      ]
     },
     "metadata": {
      "needs_background": "light"
     },
     "output_type": "display_data"
    },
    {
     "data": {
      "image/png": "[encoded data removed]",
      "text/plain": [
       "<Figure size 432x288 with 2 Axes>"
      ]
     },
     "metadata": {
      "needs_background": "light"
     },
     "output_type": "display_data"
    }
   ],
   "source": [
    "# 2-d model, iso-stress\n",
    "comp2=fea.Model(dim=2, planestress=False)\n",
    "comp2.geom([3,2,4], LY=9)  # define sections in absolute lengths\n",
    "comp2.assign([mat1, mat2, mat3])\n",
    "comp2.bcleft(0.)\n",
    "comp2.bcright(0.1*comp2.lenx, 'disp') \n",
    "comp2.bcbot(0.)\n",
    "comp2.bctop(0., 'disp')\n",
    "comp2.mesh(NX=18, NY=18)\n",
    "comp2.solve()\n",
    "comp2.calc_global()\n",
    "mod_stiff = comp2.glob['sig'][0]/comp2.glob['eps'][0]\n",
    "reuss_stiff = 1./(3/(9*mat1.C11) + 2/(9*mat2.C11) + 4/(9*mat3.C11)) # Reuss average of stiffness\n",
    "print('2-d Model 2: isostress, eps_11=10%')\n",
    "print('Global strain: ',comp2.glob['eps'][0].round(decimals=3), comp2.glob['eps'][1].round(decimals=3))\n",
    "print('Element strain Section 1: ', comp2.element[0].eps.round(decimals=3))\n",
    "print('Element strain Section 2: ', comp2.element[6*18].eps.round(decimals=3))\n",
    "print('Element strain Section 3: ', comp2.element[10*18].eps.round(decimals=3))\n",
    "print('Global stress: ',comp2.glob['sig'][0].round(decimals=3), comp2.glob['sig'][1].round(decimals=3))\n",
    "print('Element stress (MPa) Section 1: ', comp2.element[0].sig.round(decimals=3))\n",
    "print('Element stress (MPa) Section 2: ', comp2.element[6*18].sig.round(decimals=3))\n",
    "print('Element stress (MPa) Section 3: ', comp2.element[10*18].sig.round(decimals=3))\n",
    "print('Stiffness (MPa): ',mod_stiff)\n",
    "print('Target (MPa): ', reuss_stiff)\n",
    "print('Error: ', 1.-mod_stiff/reuss_stiff)\n",
    "print('----------------------------------------')\n",
    "\n",
    "comp2.plot('strain1', mag=1, shownodes=False)\n",
    "comp2.plot('strain2', mag=1, shownodes=False)\n",
    "comp2.plot('stress1', mag=1, shownodes=False)\n",
    "comp2.plot('stress2', mag=1, shownodes=False)"
   ]
  },
  {
   "cell_type": "markdown",
   "metadata": {},
   "source": [
    "## Summary\n",
    "FE models with linear elastic materials have been created and applied to analyze the mechanical response of elastic structures to given boundary conditions. The properties of linear-elastic structures are analysed more closely in the tutorial <a rel=\"Intro\" href=\"https://ahartmaier.github.io/pyLabFEA/examples.html#tutorial-2-composites\">Composites</a>."
   ]
  }
 ],
 "metadata": {
  "kernelspec": {
   "display_name": "Python 3 (ipykernel)",
   "language": "python",
   "name": "python3"
  },
  "language_info": {
   "codemirror_mode": {
    "name": "ipython",
    "version": 3
   },
   "file_extension": ".py",
   "mimetype": "text/x-python",
   "name": "python",
   "nbconvert_exporter": "python",
   "pygments_lexer": "ipython3",
   "version": "3.9.12"
  }
 },
 "nbformat": 4,
 "nbformat_minor": 4
}
